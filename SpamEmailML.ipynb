{
 "cells": [
  {
   "cell_type": "markdown",
   "metadata": {},
   "source": [
    "IMPORTING and PREPARING DATA - since data has no missing values, and gaussian naive bayes is capable of handling continuous real values, we do not need any data clearning "
   ]
  },
  {
   "cell_type": "code",
   "execution_count": 464,
   "metadata": {},
   "outputs": [],
   "source": [
    "import pandas as pd\n",
    "names = [\"word_freq_make\",         \n",
    "\"word_freq_address\",      \n",
    "\"word_freq_all\",          \n",
    "\"word_freq_3d\",           \n",
    "\"word_freq_our\",          \n",
    "\"word_freq_over\",         \n",
    "\"word_freq_remove\",       \n",
    "\"word_freq_internet\",     \n",
    "\"word_freq_order\",        \n",
    "\"word_freq_mail\",         \n",
    "\"word_freq_receive\",      \n",
    "\"word_freq_will\",         \n",
    "\"word_freq_people\",       \n",
    "\"word_freq_report\",       \n",
    "\"word_freq_addresses\",    \n",
    "\"word_freq_free\",         \n",
    "\"word_freq_business\",     \n",
    "\"word_freq_email\",        \n",
    "\"word_freq_you\",          \n",
    "\"word_freq_credit\",       \n",
    "\"word_freq_your\",         \n",
    "\"word_freq_font\",         \n",
    "\"word_freq_000\",          \n",
    "\"word_freq_money\",        \n",
    "\"word_freq_hp\",           \n",
    "\"word_freq_hpl\",          \n",
    "\"word_freq_george\",       \n",
    "\"word_freq_650\",          \n",
    "\"word_freq_lab\",          \n",
    "\"word_freq_labs\",         \n",
    "\"word_freq_telnet\",       \n",
    "\"word_freq_857\",          \n",
    "\"word_freq_data\",         \n",
    "\"word_freq_415\",          \n",
    "\"word_freq_85\",           \n",
    "\"word_freq_technology\",   \n",
    "\"word_freq_1999\",         \n",
    "\"word_freq_parts\",        \n",
    "\"word_freq_pm\",           \n",
    "\"word_freq_direct\",       \n",
    "\"word_freq_cs\",           \n",
    "\"word_freq_meeting\",      \n",
    "\"word_freq_original\",     \n",
    "\"word_freq_project\",      \n",
    "\"word_freq_re\",           \n",
    "\"word_freq_edu\",          \n",
    "\"word_freq_table\",        \n",
    "\"word_freq_conference\",   \n",
    "\"char_freq_;\",            \n",
    "\"char_freq_(\",            \n",
    "\"char_freq_[\",            \n",
    "\"char_freq_!\",            \n",
    "\"char_freq_$\",            \n",
    "\"char_freq_#\",            \n",
    "\"capital_run_length_average\", \n",
    "\"capital_run_length_longest\", \n",
    "\"capital_run_length_total\", \"class\"]\n",
    "df = pd.read_csv(\"spambase.csv\", names = names)"
   ]
  },
  {
   "cell_type": "markdown",
   "metadata": {},
   "source": [
    "VIEWING DATA"
   ]
  },
  {
   "cell_type": "code",
   "execution_count": 423,
   "metadata": {
    "scrolled": true
   },
   "outputs": [
    {
     "data": {
      "text/html": [
       "<div>\n",
       "<style scoped>\n",
       "    .dataframe tbody tr th:only-of-type {\n",
       "        vertical-align: middle;\n",
       "    }\n",
       "\n",
       "    .dataframe tbody tr th {\n",
       "        vertical-align: top;\n",
       "    }\n",
       "\n",
       "    .dataframe thead th {\n",
       "        text-align: right;\n",
       "    }\n",
       "</style>\n",
       "<table border=\"1\" class=\"dataframe\">\n",
       "  <thead>\n",
       "    <tr style=\"text-align: right;\">\n",
       "      <th></th>\n",
       "      <th>word_freq_make</th>\n",
       "      <th>word_freq_address</th>\n",
       "      <th>word_freq_all</th>\n",
       "      <th>word_freq_3d</th>\n",
       "      <th>word_freq_our</th>\n",
       "      <th>word_freq_over</th>\n",
       "      <th>word_freq_remove</th>\n",
       "      <th>word_freq_internet</th>\n",
       "      <th>word_freq_order</th>\n",
       "      <th>word_freq_mail</th>\n",
       "      <th>...</th>\n",
       "      <th>char_freq_;</th>\n",
       "      <th>char_freq_(</th>\n",
       "      <th>char_freq_[</th>\n",
       "      <th>char_freq_!</th>\n",
       "      <th>char_freq_$</th>\n",
       "      <th>char_freq_#</th>\n",
       "      <th>capital_run_length_average</th>\n",
       "      <th>capital_run_length_longest</th>\n",
       "      <th>capital_run_length_total</th>\n",
       "      <th>class</th>\n",
       "    </tr>\n",
       "  </thead>\n",
       "  <tbody>\n",
       "    <tr>\n",
       "      <th>0</th>\n",
       "      <td>0.00</td>\n",
       "      <td>0.64</td>\n",
       "      <td>0.64</td>\n",
       "      <td>0.0</td>\n",
       "      <td>0.32</td>\n",
       "      <td>0.00</td>\n",
       "      <td>0.00</td>\n",
       "      <td>0.00</td>\n",
       "      <td>0.00</td>\n",
       "      <td>0.00</td>\n",
       "      <td>...</td>\n",
       "      <td>0.00</td>\n",
       "      <td>0.000</td>\n",
       "      <td>0.0</td>\n",
       "      <td>0.778</td>\n",
       "      <td>0.000</td>\n",
       "      <td>0.000</td>\n",
       "      <td>3.756</td>\n",
       "      <td>61</td>\n",
       "      <td>278</td>\n",
       "      <td>1</td>\n",
       "    </tr>\n",
       "    <tr>\n",
       "      <th>1</th>\n",
       "      <td>0.21</td>\n",
       "      <td>0.28</td>\n",
       "      <td>0.50</td>\n",
       "      <td>0.0</td>\n",
       "      <td>0.14</td>\n",
       "      <td>0.28</td>\n",
       "      <td>0.21</td>\n",
       "      <td>0.07</td>\n",
       "      <td>0.00</td>\n",
       "      <td>0.94</td>\n",
       "      <td>...</td>\n",
       "      <td>0.00</td>\n",
       "      <td>0.132</td>\n",
       "      <td>0.0</td>\n",
       "      <td>0.372</td>\n",
       "      <td>0.180</td>\n",
       "      <td>0.048</td>\n",
       "      <td>5.114</td>\n",
       "      <td>101</td>\n",
       "      <td>1028</td>\n",
       "      <td>1</td>\n",
       "    </tr>\n",
       "    <tr>\n",
       "      <th>2</th>\n",
       "      <td>0.06</td>\n",
       "      <td>0.00</td>\n",
       "      <td>0.71</td>\n",
       "      <td>0.0</td>\n",
       "      <td>1.23</td>\n",
       "      <td>0.19</td>\n",
       "      <td>0.19</td>\n",
       "      <td>0.12</td>\n",
       "      <td>0.64</td>\n",
       "      <td>0.25</td>\n",
       "      <td>...</td>\n",
       "      <td>0.01</td>\n",
       "      <td>0.143</td>\n",
       "      <td>0.0</td>\n",
       "      <td>0.276</td>\n",
       "      <td>0.184</td>\n",
       "      <td>0.010</td>\n",
       "      <td>9.821</td>\n",
       "      <td>485</td>\n",
       "      <td>2259</td>\n",
       "      <td>1</td>\n",
       "    </tr>\n",
       "    <tr>\n",
       "      <th>3</th>\n",
       "      <td>0.00</td>\n",
       "      <td>0.00</td>\n",
       "      <td>0.00</td>\n",
       "      <td>0.0</td>\n",
       "      <td>0.63</td>\n",
       "      <td>0.00</td>\n",
       "      <td>0.31</td>\n",
       "      <td>0.63</td>\n",
       "      <td>0.31</td>\n",
       "      <td>0.63</td>\n",
       "      <td>...</td>\n",
       "      <td>0.00</td>\n",
       "      <td>0.137</td>\n",
       "      <td>0.0</td>\n",
       "      <td>0.137</td>\n",
       "      <td>0.000</td>\n",
       "      <td>0.000</td>\n",
       "      <td>3.537</td>\n",
       "      <td>40</td>\n",
       "      <td>191</td>\n",
       "      <td>1</td>\n",
       "    </tr>\n",
       "    <tr>\n",
       "      <th>4</th>\n",
       "      <td>0.00</td>\n",
       "      <td>0.00</td>\n",
       "      <td>0.00</td>\n",
       "      <td>0.0</td>\n",
       "      <td>0.63</td>\n",
       "      <td>0.00</td>\n",
       "      <td>0.31</td>\n",
       "      <td>0.63</td>\n",
       "      <td>0.31</td>\n",
       "      <td>0.63</td>\n",
       "      <td>...</td>\n",
       "      <td>0.00</td>\n",
       "      <td>0.135</td>\n",
       "      <td>0.0</td>\n",
       "      <td>0.135</td>\n",
       "      <td>0.000</td>\n",
       "      <td>0.000</td>\n",
       "      <td>3.537</td>\n",
       "      <td>40</td>\n",
       "      <td>191</td>\n",
       "      <td>1</td>\n",
       "    </tr>\n",
       "  </tbody>\n",
       "</table>\n",
       "<p>5 rows × 58 columns</p>\n",
       "</div>"
      ],
      "text/plain": [
       "   word_freq_make  word_freq_address  word_freq_all  word_freq_3d  \\\n",
       "0            0.00               0.64           0.64           0.0   \n",
       "1            0.21               0.28           0.50           0.0   \n",
       "2            0.06               0.00           0.71           0.0   \n",
       "3            0.00               0.00           0.00           0.0   \n",
       "4            0.00               0.00           0.00           0.0   \n",
       "\n",
       "   word_freq_our  word_freq_over  word_freq_remove  word_freq_internet  \\\n",
       "0           0.32            0.00              0.00                0.00   \n",
       "1           0.14            0.28              0.21                0.07   \n",
       "2           1.23            0.19              0.19                0.12   \n",
       "3           0.63            0.00              0.31                0.63   \n",
       "4           0.63            0.00              0.31                0.63   \n",
       "\n",
       "   word_freq_order  word_freq_mail  ...    char_freq_;  char_freq_(  \\\n",
       "0             0.00            0.00  ...           0.00        0.000   \n",
       "1             0.00            0.94  ...           0.00        0.132   \n",
       "2             0.64            0.25  ...           0.01        0.143   \n",
       "3             0.31            0.63  ...           0.00        0.137   \n",
       "4             0.31            0.63  ...           0.00        0.135   \n",
       "\n",
       "   char_freq_[  char_freq_!  char_freq_$  char_freq_#  \\\n",
       "0          0.0        0.778        0.000        0.000   \n",
       "1          0.0        0.372        0.180        0.048   \n",
       "2          0.0        0.276        0.184        0.010   \n",
       "3          0.0        0.137        0.000        0.000   \n",
       "4          0.0        0.135        0.000        0.000   \n",
       "\n",
       "   capital_run_length_average  capital_run_length_longest  \\\n",
       "0                       3.756                          61   \n",
       "1                       5.114                         101   \n",
       "2                       9.821                         485   \n",
       "3                       3.537                          40   \n",
       "4                       3.537                          40   \n",
       "\n",
       "   capital_run_length_total  class  \n",
       "0                       278      1  \n",
       "1                      1028      1  \n",
       "2                      2259      1  \n",
       "3                       191      1  \n",
       "4                       191      1  \n",
       "\n",
       "[5 rows x 58 columns]"
      ]
     },
     "execution_count": 423,
     "metadata": {},
     "output_type": "execute_result"
    }
   ],
   "source": [
    "df.head()"
   ]
  },
  {
   "cell_type": "code",
   "execution_count": 424,
   "metadata": {},
   "outputs": [
    {
     "data": {
      "text/plain": [
       "(4601, 58)"
      ]
     },
     "execution_count": 424,
     "metadata": {},
     "output_type": "execute_result"
    }
   ],
   "source": [
    "df.shape"
   ]
  },
  {
   "cell_type": "code",
   "execution_count": null,
   "metadata": {},
   "outputs": [],
   "source": []
  },
  {
   "cell_type": "markdown",
   "metadata": {},
   "source": [
    "BUILDING MACHINE LEARNING MODEL"
   ]
  },
  {
   "cell_type": "code",
   "execution_count": 425,
   "metadata": {},
   "outputs": [],
   "source": [
    "from sklearn.model_selection import train_test_split\n",
    "train_x, test_x, train_y, test_y = train_test_split(df.drop('class', axis=1), df['class'], test_size=0.2, random_state=34)"
   ]
  },
  {
   "cell_type": "code",
   "execution_count": 449,
   "metadata": {},
   "outputs": [
    {
     "data": {
      "text/plain": [
       "GaussianNB(priors=None, var_smoothing=1e-09)"
      ]
     },
     "execution_count": 449,
     "metadata": {},
     "output_type": "execute_result"
    }
   ],
   "source": [
    "from sklearn.naive_bayes import GaussianNB\n",
    "\n",
    "model = GaussianNB()\n",
    "model.fit(train_x, train_y)"
   ]
  },
  {
   "cell_type": "markdown",
   "metadata": {},
   "source": [
    "TESTING ACCURACY OF MODEL\n",
    "METHOD 1) mean accuracy"
   ]
  },
  {
   "cell_type": "code",
   "execution_count": 451,
   "metadata": {},
   "outputs": [
    {
     "data": {
      "text/plain": [
       "0.8306188925081434"
      ]
     },
     "execution_count": 451,
     "metadata": {},
     "output_type": "execute_result"
    }
   ],
   "source": [
    "predicted = model.predict(test_x)\n",
    "model.score(test_x, test_y)"
   ]
  },
  {
   "cell_type": "markdown",
   "metadata": {},
   "source": [
    "METHOD 2) ROC AUC"
   ]
  },
  {
   "cell_type": "code",
   "execution_count": 452,
   "metadata": {},
   "outputs": [
    {
     "data": {
      "text/plain": [
       "0.9524317532275549"
      ]
     },
     "execution_count": 452,
     "metadata": {},
     "output_type": "execute_result"
    }
   ],
   "source": [
    "from sklearn.metrics import roc_auc_score\n",
    "probabilities = model.predict_proba(test_x)\n",
    "roc_auc_score(test_y, probabilities[:, 1])"
   ]
  },
  {
   "cell_type": "markdown",
   "metadata": {},
   "source": [
    "METHOD 3) confusion matrix"
   ]
  },
  {
   "cell_type": "code",
   "execution_count": 453,
   "metadata": {},
   "outputs": [
    {
     "data": {
      "text/plain": [
       "array([[415, 141],\n",
       "       [ 15, 350]])"
      ]
     },
     "execution_count": 453,
     "metadata": {},
     "output_type": "execute_result"
    }
   ],
   "source": [
    "from sklearn.metrics import confusion_matrix\n",
    "confusion_matrix(test_y, predicted)"
   ]
  },
  {
   "cell_type": "code",
   "execution_count": 454,
   "metadata": {},
   "outputs": [],
   "source": [
    "# accuracy is good using confusion matrix as large numbers in top left and bottom right corners\n",
    "# and small numbers in top right and bottom left corners"
   ]
  },
  {
   "cell_type": "markdown",
   "metadata": {},
   "source": [
    "METHOD 4) precision and recall"
   ]
  },
  {
   "cell_type": "code",
   "execution_count": 455,
   "metadata": {},
   "outputs": [
    {
     "data": {
      "text/plain": [
       "0.6924227318045862"
      ]
     },
     "execution_count": 455,
     "metadata": {},
     "output_type": "execute_result"
    }
   ],
   "source": [
    "from sklearn.metrics import precision_score\n",
    "\n",
    "train_predictions = model.predict(train_x)\n",
    "precision_score(train_y, train_predictions)"
   ]
  },
  {
   "cell_type": "code",
   "execution_count": 456,
   "metadata": {},
   "outputs": [
    {
     "data": {
      "text/plain": [
       "0.9592541436464088"
      ]
     },
     "execution_count": 456,
     "metadata": {},
     "output_type": "execute_result"
    }
   ],
   "source": [
    "from sklearn.metrics import recall_score\n",
    "\n",
    "recall_score(train_y, train_predictions)"
   ]
  },
  {
   "cell_type": "markdown",
   "metadata": {},
   "source": [
    "VISUALISING OUTPUT OF MODEL"
   ]
  },
  {
   "cell_type": "markdown",
   "metadata": {},
   "source": [
    "all the above metrics indicate that the model is quite accurate, with only a small issue with precision. However below is a visual aid to demonstrate how accurate the model is by roc auc measures. "
   ]
  },
  {
   "cell_type": "code",
   "execution_count": 457,
   "metadata": {},
   "outputs": [
    {
     "data": {
      "text/plain": [
       "Text(0, 0.5, 'True Positive Rate')"
      ]
     },
     "execution_count": 457,
     "metadata": {},
     "output_type": "execute_result"
    },
    {
     "data": {
      "image/png": "[encoded data removed]",
      "text/plain": [
       "<Figure size 432x288 with 1 Axes>"
      ]
     },
     "metadata": {},
     "output_type": "display_data"
    }
   ],
   "source": [
    "%matplotlib inline\n",
    "import matplotlib.pyplot as plt\n",
    "import seaborn as sns\n",
    "\n",
    "sns.set()\n",
    "\n",
    "from sklearn.metrics import roc_curve\n",
    "\n",
    "fpr, tpr, _ = roc_curve(test_y, probabilities[:, 1])\n",
    "plt.plot(fpr, tpr)\n",
    "plt.plot([0, 1], [0, 1], color='grey', lw=1, linestyle='--')\n",
    "plt.xlabel('False Positive Rate')\n",
    "plt.ylabel('True Positive Rate')\n",
    "\n",
    "# the below indicates a near perfect classifier (0.97)"
   ]
  },
  {
   "cell_type": "markdown",
   "metadata": {},
   "source": [
    "BUILDING IMPLEMENTATION OF MODEL\n",
    "- below is an function that is able to predict if an email entered as a text is spam or not\n",
    "- it converts the text to the relevant data, then pushes it in to the model which returns the probability that an email is spam or not\n"
   ]
  },
  {
   "cell_type": "code",
   "execution_count": 472,
   "metadata": {},
   "outputs": [],
   "source": [
    "from collections import Counter, defaultdict\n",
    "\n",
    "def predict_spam(text):\n",
    "    text = text.split(\" \")\n",
    "    totalWords = len(text)\n",
    "    totalChar = 0\n",
    "    \n",
    "    keyWords = [\"make\", \"address\",\"all\",\"3d\", \"our\", \"over\", \"remove\", \"internet\", \"order\", \"mail\", \"receive\", \"will\", \"people\", \"report\", \"addresses\", \"free\", \"business\", \"email\", \"you\", \"credit\", \"your\", \"font\", \"000\", \"money\", \"hp\", \"hpl\", \"george\", \"650\", \"lab\", \"labs\", \"telnet\", \"857\", \"data\", \"415\", \"85\", \"technology\", \"1999\", \"parts\", \"pm\", \"direct\", \"cs\", \"meeting\", \"original\", \"project\", \"re\", \"edu\", \"table\", \"conference\"]\n",
    "    keyChar =  [\";\", \"(\", \"[\", \"!\", \"$\", \"#\"]\n",
    "    keyWordsCount = Counter(keyWords)\n",
    "    keyCharCount = Counter(keyChar)\n",
    "    for word in text:\n",
    "        if word in keyWords:\n",
    "            keyWordsCount[word]+=1\n",
    "        for char in word:\n",
    "            if char in keyChar:\n",
    "                keyCharCount[char]+=1\n",
    "                totalChar+=1\n",
    "    featureData = []\n",
    "    for word in keyWords:\n",
    "        if totalWords > 0: \n",
    "            featureData.append((keyWordsCount[word]-1)/totalWords * 100) \n",
    "        else:\n",
    "            featureData.append(0)\n",
    "    for char in keyChar: \n",
    "        if totalChar > 0:\n",
    "            featureData.append((keyCharCount[char]-1)/totalChar * 100) \n",
    "        else:\n",
    "            featureData.append(0)\n",
    "    \n",
    "    # calculate average length of uninterrupted sequences of capital letters\n",
    "    text+=\" \" \n",
    "    insideCaps = False\n",
    "    capsRunLength = 0\n",
    "    numCapsRuns = 0\n",
    "    lengthlongestCaps = 0\n",
    "    lenCap = 0\n",
    "    for letter in \" \".join(text):\n",
    "        if letter.isupper():\n",
    "            if not insideCaps:\n",
    "                insideCaps = True\n",
    "            capsRunLength+=1\n",
    "            lenCap+=1\n",
    "        elif insideCaps: \n",
    "            insideCaps = False\n",
    "            numCapsRuns+=1\n",
    "            lengthlongestCaps = max(lengthlongestCaps, lenCap)\n",
    "            lenCap = 0\n",
    "            \n",
    "    average = 0 if not numCapsRuns else capsRunLength/numCapsRuns\n",
    "    featureData.append(average)\n",
    "    featureData.append(lengthlongestCaps)\n",
    "    featureData.append(capsRunLength)\n",
    "    data = {}\n",
    "    for i in range(len(names) - 1):\n",
    "        data[names[i]] = featureData[i] \n",
    "    data = [data]\n",
    "    return round(model.predict_proba(pd.DataFrame(data))[0][0])"
   ]
  },
  {
   "cell_type": "markdown",
   "metadata": {},
   "source": [
    "EXAMPLES of prediction function being used\n",
    "1) example emails that are not spam"
   ]
  },
  {
   "cell_type": "code",
   "execution_count": 473,
   "metadata": {},
   "outputs": [
    {
     "data": {
      "text/plain": [
       "0.0"
      ]
     },
     "execution_count": 473,
     "metadata": {},
     "output_type": "execute_result"
    }
   ],
   "source": [
    "predict_spam(\"we must make an address that will receive a report SELL NOW!!\")"
   ]
  },
  {
   "cell_type": "code",
   "execution_count": 474,
   "metadata": {},
   "outputs": [
    {
     "data": {
      "text/plain": [
       "0.0"
      ]
     },
     "execution_count": 474,
     "metadata": {},
     "output_type": "execute_result"
    }
   ],
   "source": [
    "predict_spam(\"\")"
   ]
  },
  {
   "cell_type": "code",
   "execution_count": 475,
   "metadata": {},
   "outputs": [
    {
     "data": {
      "text/plain": [
       "0.0"
      ]
     },
     "execution_count": 475,
     "metadata": {},
     "output_type": "execute_result"
    }
   ],
   "source": [
    "predict_spam(\"This is a normal email!\")"
   ]
  },
  {
   "cell_type": "markdown",
   "metadata": {},
   "source": [
    "2) example emails that are spam"
   ]
  },
  {
   "cell_type": "code",
   "execution_count": 476,
   "metadata": {},
   "outputs": [
    {
     "data": {
      "text/plain": [
       "1.0"
      ]
     },
     "execution_count": 476,
     "metadata": {},
     "output_type": "execute_result"
    }
   ],
   "source": [
    "predict_spam(\"FJDSLKAJFLKDSJ AFDSL JFLDASJL DFSLJ FADSL LFADSJLFDJASL FJDSLIAJ FLDSA JIFL DSAI FAJDSLI JFLD SAJJF DASL LFA JSLKFLKADS JFOID SJLF JADSL JFLKAJS DL FLDSJFDLASK HFADS FADHSLKJF HADSKJHF KJASD F AHDS FHADSKJL HFJKHLKSJDF HKLJDAS HFKLADS JHFKLDAS FJDSA LFDAS\")"
   ]
  },
  {
   "cell_type": "code",
   "execution_count": 477,
   "metadata": {},
   "outputs": [
    {
     "data": {
      "text/plain": [
       "1.0"
      ]
     },
     "execution_count": 477,
     "metadata": {},
     "output_type": "execute_result"
    }
   ],
   "source": [
    "predict_spam(\"PAY NOW PAY NOW CREDIT CARD SCAM !!!!!!!! your missing out PAY NOW PAY NOW!!! PAY NOW PAY NOW CREDIT CARD SCAM !!!!!!!! your missing out PAY NOW PAY NOW!!! PAY NOW PAY NOW CREDIT CARD SCAM !!!!!!!! your missing out PAY NOW PAY NOW!!! PAY NOW PAY NOW CREDIT CARD SCAM !!!!!!!! your missing out PAY NOW PAY NOW!!! PAY NOW PAY NOW CREDIT CARD SCAM !!!!!!!! your missing out PAY NOW PAY NOW!!! PAY NOW PAY NOW CREDIT CARD SCAM !!!!!!!! your missing out PAY NOW PAY NOW!!! PAY NOW PAY NOW CREDIT CARD SCAM !!!!!!!! your missing out PAY NOW PAY NOW!!! PAY NOW PAY NOW CREDIT CARD SCAM !!!!!!!! your missing out PAY NOW PAY NOW!!! PAY NOW PAY NOW CREDIT CARD SCAM !!!!!!!! your missing out PAY NOW PAY NOW!!! PAY NOW PAY NOW CREDIT CARD SCAM !!!!!!!! your missing out PAY NOW PAY NOW!!! PAY NOW PAY NOW CREDIT CARD SCAM !!!!!!!! your missing out PAY NOW PAY NOW!!! PAY NOW PAY NOW CREDIT CARD SCAM !!!!!!!! your missing out PAY NOW PAY NOW!!!PAY NOW PAY NOW CREDIT CARD SCAM !!!!!!!! your missing out PAY NOW PAY NOW!!!PAY NOW PAY NOW CREDIT CARD SCAM !!!!!!!! your missing out PAY NOW PAY NOW!!!PAY NOW PAY NOW CREDIT CARD SCAM !!!!!!!! your missing out PAY NOW PAY NOW!!!PAY NOW PAY NOW CREDIT CARD SCAM !!!!!!!! your missing out PAY NOW PAY NOW!!!PAY NOW PAY NOW CREDIT CARD SCAM !!!!!!!! your missing out PAY NOW PAY NOW!!!PAY NOW PAY NOW CREDIT CARD SCAM !!!!!!!! your missing out PAY NOW PAY NOW!!!PAY NOW PAY NOW CREDIT CARD SCAM !!!!!!!! your missing out PAY NOW PAY NOW!!!VPAY NOW PAY NOW CREDIT CARD SCAM !!!!!!!! your missing out PAY NOW PAY NOW!!!V V V V V V V V PAY NOW PAY NOW CREDIT CARD SCAM !!!!!!!! your missing out PAY NOW PAY NOW!!! PAY NOW PAY NOW CREDIT CARD SCAM !!!!!!!! your missing out PAY NOW PAY NOW!!! PAY NOW PAY NOW CREDIT CARD SCAM !!!!!!!! your missing out PAY NOW PAY NOW!!! PAY NOW PAY NOW CREDIT CARD SCAM !!!!!!!! your missing out PAY NOW PAY NOW!!! PAY NOW PAY NOW CREDIT CARD SCAM !!!!!!!! your missing out PAY NOW PAY NOW!!! PAY NOW PAY NOW CREDIT CARD SCAM !!!!!!!! your missing out PAY NOW PAY NOW!!! PAY NOW PAY NOW CREDIT CARD SCAM !!!!!!!! your missing out PAY NOW PAY NOW!!! PAY NOW PAY NOW CREDIT CARD SCAM !!!!!!!! your missing out PAY NOW PAY NOW!!! PAY NOW PAY NOW CREDIT CARD SCAM !!!!!!!! your missing out PAY NOW PAY NOW!!! PAY NOW PAY NOW CREDIT CARD SCAM !!!!!!!! your missing out PAY NOW PAY NOW!!! PAY NOW PAY NOW CREDIT CARD SCAM !!!!!!!! your missing out PAY NOW PAY NOW!!! PAY NOW PAY NOW CREDIT CARD SCAM !!!!!!!! your missing out PAY NOW PAY NOW!!!PAY NOW PAY NOW CREDIT CARD SCAM !!!!!!!! your missing out PAY NOW PAY NOW!!!PAY NOW PAY NOW CREDIT CARD SCAM !!!!!!!! your missing out PAY NOW PAY NOW!!!PAY NOW PAY NOW CREDIT CARD SCAM !!!!!!!! your missing out PAY NOW PAY NOW!!!PAY NOW PAY NOW CREDIT CARD SCAM !!!!!!!! your missing out PAY NOW PAY NOW!!!PAY NOW PAY NOW CREDIT CARD SCAM !!!!!!!! your missing out PAY NOW PAY NOW!!!!!!!!!! PAY NOW PAY NOW CREDIT CARD SCAM !!!!!!!! your missing out PAY NOW PAY NOW!!! PAY NOW PAY NOW CREDIT CARD SCAM !!!!!!!! your missing out PAY NOW PAY NOW!!! PAY NOW PAY NOW CREDIT CARD SCAM !!!!!!!! your missing out PAY NOW PAY NOW!!! PAY NOW PAY NOW CREDIT CARD SCAM !!!!!!!! your missing out PAY NOW PAY NOW!!! PAY NOW PAY NOW CREDIT CARD SCAM !!!!!!!! your missing out PAY NOW PAY NOW!!! PAY NOW PAY NOW CREDIT CARD SCAM !!!!!!!! your missing out PAY NOW PAY NOW!!! PAY NOW PAY NOW CREDIT CARD SCAM !!!!!!!! your missing out PAY NOW PAY NOW!!! PAY NOW PAY NOW CREDIT CARD SCAM !!!!!!!! your missing out PAY NOW PAY NOW!!! PAY NOW PAY NOW CREDIT CARD SCAM !!!!!!!! your missing out PAY NOW PAY NOW!!! PAY NOW PAY NOW CREDIT CARD SCAM !!!!!!!! your missing out PAY NOW PAY NOW!!! PAY NOW PAY NOW CREDIT CARD SCAM !!!!!!!! your missing out PAY NOW PAY NOW!!! PAY NOW PAY NOW CREDIT CARD SCAM !!!!!!!! your missing out PAY NOW PAY NOW!!!PAY NOW PAY NOW CREDIT CARD SCAM !!!!!!!! your missing out PAY NOW PAY NOW!!!PAY NOW PAY NOW CREDIT CARD SCAM !!!!!!!! your missing out PAY NOW PAY NOW!!!PAY NOW PAY NOW CREDIT CARD SCAM !!!!!!!! your missing out PAY NOW PAY NOW!!!PAY NOW PAY NOW CREDIT CARD SCAM !!!!!!!! your missing out PAY NOW PAY NOW!!!PAY NOW PAY NOW CREDIT CARD SCAM !!!!!!!! your missing out PAY NOW PAY NOW!!!PAY NOW PAY NOW CREDIT CARD SCAM !!!!!!!! your missing out PAY NOW PAY NOW!!!PAY NOW PAY NOW CREDIT CARD SCAM !!!!!!!! your missing out PAY NOW PAY NOW!!!VPAY NOW PAY NOW CREDIT CARD SCAM !!!!!!!! your missing out PAY NOW PAY NOW!!!V V V V V V V V PAY NOW PAY NOW CREDIT CARD SCAM !!!!!!!! your missing out PAY NOW PAY NOW!!! PAY NOW PAY NOW CREDIT CARD SCAM !!!!!!!! your missing out PAY NOW PAY NOW!!! PAY NOW PAY NOW CREDIT CARD SCAM !!!!!!!! your missing out PAY NOW PAY NOW!!! PAY NOW PAY NOW CREDIT CARD SCAM !!!!!!!! your missing out PAY NOW PAY NOW!!! PAY NOW PAY NOW CREDIT CARD SCAM !!!!!!!! your missing out PAY NOW PAY NOW!!! PAY NOW PAY NOW CREDIT CARD SCAM !!!!!!!! your missing out PAY NOW PAY NOW!!! PAY NOW PAY NOW CREDIT CARD SCAM !!!!!!!! your missing out PAY NOW PAY NOW!!! PAY NOW PAY NOW CREDIT CARD SCAM !!!!!!!! your missing out PAY NOW PAY NOW!!! PAY NOW PAY NOW CREDIT CARD SCAM !!!!!!!! your missing out PAY NOW PAY NOW!!! PAY NOW PAY NOW CREDIT CARD SCAM !!!!!!!! your missing out PAY NOW PAY NOW!!! PAY NOW PAY NOW CREDIT CARD SCAM !!!!!!!! your missing out PAY NOW PAY NOW!!! PAY NOW PAY NOW CREDIT CARD SCAM !!!!!!!! your missing out PAY NOW PAY NOW!!!PAY NOW PAY NOW CREDIT CARD SCAM !!!!!!!! your missing out PAY NOW PAY NOW!!!PAY NOW PAY NOW CREDIT CARD SCAM !!!!!!!! your missing out PAY NOW PAY NOW!!!PAY NOW PAY NOW CREDIT CARD SCAM !!!!!!!! your missing out PAY NOW PAY NOW!!!PAY NOW PAY NOW CREDIT CARD SCAM !!!!!!!! your missing out PAY NOW PAY NOW!!!PAY NOW PAY NOW CREDIT CARD SCAM !!!!!!!! your missing out PAY NOW PAY NOW!!!!!!!!!! PAY NOW PAY NOW CREDIT CARD SCAM !!!!!!!! your missing out PAY NOW PAY NOW!!! PAY NOW PAY NOW CREDIT CARD SCAM !!!!!!!! your missing out PAY NOW PAY NOW!!! PAY NOW PAY NOW CREDIT CARD SCAM !!!!!!!! your missing out PAY NOW PAY NOW!!! PAY NOW PAY NOW CREDIT CARD SCAM !!!!!!!! your missing out PAY NOW PAY NOW!!! PAY NOW PAY NOW CREDIT CARD SCAM !!!!!!!! your missing out PAY NOW PAY NOW!!! PAY NOW PAY NOW CREDIT CARD SCAM !!!!!!!! your missing out PAY NOW PAY NOW!!! PAY NOW PAY NOW CREDIT CARD SCAM !!!!!!!! your missing out PAY NOW PAY NOW!!! PAY NOW PAY NOW CREDIT CARD SCAM !!!!!!!! your missing out PAY NOW PAY NOW!!! PAY NOW PAY NOW CREDIT CARD SCAM !!!!!!!! your missing out PAY NOW PAY NOW!!! PAY NOW PAY NOW CREDIT CARD SCAM !!!!!!!! your missing out PAY NOW PAY NOW!!! PAY NOW PAY NOW CREDIT CARD SCAM !!!!!!!! your missing out PAY NOW PAY NOW!!! PAY NOW PAY NOW CREDIT CARD SCAM !!!!!!!! your missing out PAY NOW PAY NOW!!!PAY NOW PAY NOW CREDIT CARD SCAM !!!!!!!! your missing out PAY NOW PAY NOW!!!PAY NOW PAY NOW CREDIT CARD SCAM !!!!!!!! your missing out PAY NOW PAY NOW!!!PAY NOW PAY NOW CREDIT CARD SCAM !!!!!!!! your missing out PAY NOW PAY NOW!!!PAY NOW PAY NOW CREDIT CARD SCAM !!!!!!!! your missing out PAY NOW PAY NOW!!!PAY NOW PAY NOW CREDIT CARD SCAM !!!!!!!! your missing out PAY NOW PAY NOW!!!PAY NOW PAY NOW CREDIT CARD SCAM !!!!!!!! your missing out PAY NOW PAY NOW!!!PAY NOW PAY NOW CREDIT CARD SCAM !!!!!!!! your missing out PAY NOW PAY NOW!!!VPAY NOW PAY NOW CREDIT CARD SCAM !!!!!!!! your missing out PAY NOW PAY NOW!!!V V V V V V V V PAY NOW PAY NOW CREDIT CARD SCAM !!!!!!!! your missing out PAY NOW PAY NOW!!! PAY NOW PAY NOW CREDIT CARD SCAM !!!!!!!! your missing out PAY NOW PAY NOW!!! PAY NOW PAY NOW CREDIT CARD SCAM !!!!!!!! your missing out PAY NOW PAY NOW!!! PAY NOW PAY NOW CREDIT CARD SCAM !!!!!!!! your missing out PAY NOW PAY NOW!!! PAY NOW PAY NOW CREDIT CARD SCAM !!!!!!!! your missing out PAY NOW PAY NOW!!! PAY NOW PAY NOW CREDIT CARD SCAM !!!!!!!! your missing out PAY NOW PAY NOW!!! PAY NOW PAY NOW CREDIT CARD SCAM !!!!!!!! your missing out PAY NOW PAY NOW!!! PAY NOW PAY NOW CREDIT CARD SCAM !!!!!!!! your missing out PAY NOW PAY NOW!!! PAY NOW PAY NOW CREDIT CARD SCAM !!!!!!!! your missing out PAY NOW PAY NOW!!! PAY NOW PAY NOW CREDIT CARD SCAM !!!!!!!! your missing out PAY NOW PAY NOW!!! PAY NOW PAY NOW CREDIT CARD SCAM !!!!!!!! your missing out PAY NOW PAY NOW!!! PAY NOW PAY NOW CREDIT CARD SCAM !!!!!!!! your missing out PAY NOW PAY NOW!!!PAY NOW PAY NOW CREDIT CARD SCAM !!!!!!!! your missing out PAY NOW PAY NOW!!!PAY NOW PAY NOW CREDIT CARD SCAM !!!!!!!! your missing out PAY NOW PAY NOW!!!PAY NOW PAY NOW CREDIT CARD SCAM !!!!!!!! your missing out PAY NOW PAY NOW!!!PAY NOW PAY NOW CREDIT CARD SCAM !!!!!!!! your missing out PAY NOW PAY NOW!!!PAY NOW PAY NOW CREDIT CARD SCAM !!!!!!!! your missing out PAY NOW PAY NOW!!!!!!!!!! PAY NOW PAY NOW CREDIT CARD SCAM !!!!!!!! your missing out PAY NOW PAY NOW!!! PAY NOW PAY NOW CREDIT CARD SCAM !!!!!!!! your missing out PAY NOW PAY NOW!!! PAY NOW PAY NOW CREDIT CARD SCAM !!!!!!!! your missing out PAY NOW PAY NOW!!! PAY NOW PAY NOW CREDIT CARD SCAM !!!!!!!! your missing out PAY NOW PAY NOW!!! PAY NOW PAY NOW CREDIT CARD SCAM !!!!!!!! your missing out PAY NOW PAY NOW!!! PAY NOW PAY NOW CREDIT CARD SCAM !!!!!!!! your missing out PAY NOW PAY NOW!!! PAY NOW PAY NOW CREDIT CARD SCAM !!!!!!!! your missing out PAY NOW PAY NOW!!! PAY NOW PAY NOW CREDIT CARD SCAM !!!!!!!! your missing out PAY NOW PAY NOW!!! PAY NOW PAY NOW CREDIT CARD SCAM !!!!!!!! your missing out PAY NOW PAY NOW!!! PAY NOW PAY NOW CREDIT CARD SCAM !!!!!!!! your missing out PAY NOW PAY NOW!!! PAY NOW PAY NOW CREDIT CARD SCAM !!!!!!!! your missing out PAY NOW PAY NOW!!! PAY NOW PAY NOW CREDIT CARD SCAM !!!!!!!! your missing out PAY NOW PAY NOW!!!PAY NOW PAY NOW CREDIT CARD SCAM !!!!!!!! your missing out PAY NOW PAY NOW!!!PAY NOW PAY NOW CREDIT CARD SCAM !!!!!!!! your missing out PAY NOW PAY NOW!!!PAY NOW PAY NOW CREDIT CARD SCAM !!!!!!!! your missing out PAY NOW PAY NOW!!!PAY NOW PAY NOW CREDIT CARD SCAM !!!!!!!! your missing out PAY NOW PAY NOW!!!PAY NOW PAY NOW CREDIT CARD SCAM !!!!!!!! your missing out PAY NOW PAY NOW!!!PAY NOW PAY NOW CREDIT CARD SCAM !!!!!!!! your missing out PAY NOW PAY NOW!!!PAY NOW PAY NOW CREDIT CARD SCAM !!!!!!!! your missing out PAY NOW PAY NOW!!!VPAY NOW PAY NOW CREDIT CARD SCAM !!!!!!!! your missing out PAY NOW PAY NOW!!!V V V V V V V V PAY NOW PAY NOW CREDIT CARD SCAM !!!!!!!! your missing out PAY NOW PAY NOW!!! PAY NOW PAY NOW CREDIT CARD SCAM !!!!!!!! your missing out PAY NOW PAY NOW!!! PAY NOW PAY NOW CREDIT CARD SCAM !!!!!!!! your missing out PAY NOW PAY NOW!!! PAY NOW PAY NOW CREDIT CARD SCAM !!!!!!!! your missing out PAY NOW PAY NOW!!! PAY NOW PAY NOW CREDIT CARD SCAM !!!!!!!! your missing out PAY NOW PAY NOW!!! PAY NOW PAY NOW CREDIT CARD SCAM !!!!!!!! your missing out PAY NOW PAY NOW!!! PAY NOW PAY NOW CREDIT CARD SCAM !!!!!!!! your missing out PAY NOW PAY NOW!!! PAY NOW PAY NOW CREDIT CARD SCAM !!!!!!!! your missing out PAY NOW PAY NOW!!! PAY NOW PAY NOW CREDIT CARD SCAM !!!!!!!! your missing out PAY NOW PAY NOW!!! PAY NOW PAY NOW CREDIT CARD SCAM !!!!!!!! your missing out PAY NOW PAY NOW!!! PAY NOW PAY NOW CREDIT CARD SCAM !!!!!!!! your missing out PAY NOW PAY NOW!!! PAY NOW PAY NOW CREDIT CARD SCAM !!!!!!!! your missing out PAY NOW PAY NOW!!!PAY NOW PAY NOW CREDIT CARD SCAM !!!!!!!! your missing out PAY NOW PAY NOW!!!PAY NOW PAY NOW CREDIT CARD SCAM !!!!!!!! your missing out PAY NOW PAY NOW!!!PAY NOW PAY NOW CREDIT CARD SCAM !!!!!!!! your missing out PAY NOW PAY NOW!!!PAY NOW PAY NOW CREDIT CARD SCAM !!!!!!!! your missing out PAY NOW PAY NOW!!!PAY NOW PAY NOW CREDIT CARD SCAM !!!!!!!! your missing out PAY NOW PAY NOW!!!!!!!!!! PAY NOW PAY NOW CREDIT CARD SCAM !!!!!!!! your missing out PAY NOW PAY NOW!!! PAY NOW PAY NOW CREDIT CARD SCAM !!!!!!!! your missing out PAY NOW PAY NOW!!! PAY NOW PAY NOW CREDIT CARD SCAM !!!!!!!! your missing out PAY NOW PAY NOW!!! PAY NOW PAY NOW CREDIT CARD SCAM !!!!!!!! your missing out PAY NOW PAY NOW!!! PAY NOW PAY NOW CREDIT CARD SCAM !!!!!!!! your missing out PAY NOW PAY NOW!!! PAY NOW PAY NOW CREDIT CARD SCAM !!!!!!!! your missing out PAY NOW PAY NOW!!! PAY NOW PAY NOW CREDIT CARD SCAM !!!!!!!! your missing out PAY NOW PAY NOW!!! PAY NOW PAY NOW CREDIT CARD SCAM !!!!!!!! your missing out PAY NOW PAY NOW!!! PAY NOW PAY NOW CREDIT CARD SCAM !!!!!!!! your missing out PAY NOW PAY NOW!!! PAY NOW PAY NOW CREDIT CARD SCAM !!!!!!!! your missing out PAY NOW PAY NOW!!! PAY NOW PAY NOW CREDIT CARD SCAM !!!!!!!! your missing out PAY NOW PAY NOW!!! PAY NOW PAY NOW CREDIT CARD SCAM !!!!!!!! your missing out PAY NOW PAY NOW!!!PAY NOW PAY NOW CREDIT CARD SCAM !!!!!!!! your missing out PAY NOW PAY NOW!!!PAY NOW PAY NOW CREDIT CARD SCAM !!!!!!!! your missing out PAY NOW PAY NOW!!!PAY NOW PAY NOW CREDIT CARD SCAM !!!!!!!! your missing out PAY NOW PAY NOW!!!PAY NOW PAY NOW CREDIT CARD SCAM !!!!!!!! your missing out PAY NOW PAY NOW!!!PAY NOW PAY NOW CREDIT CARD SCAM !!!!!!!! your missing out PAY NOW PAY NOW!!!PAY NOW PAY NOW CREDIT CARD SCAM !!!!!!!! your missing out PAY NOW PAY NOW!!!PAY NOW PAY NOW CREDIT CARD SCAM !!!!!!!! your missing out PAY NOW PAY NOW!!!VPAY NOW PAY NOW CREDIT CARD SCAM !!!!!!!! your missing out PAY NOW PAY NOW!!!V V V V V V V V PAY NOW PAY NOW CREDIT CARD SCAM !!!!!!!! your missing out PAY NOW PAY NOW!!! PAY NOW PAY NOW CREDIT CARD SCAM !!!!!!!! your missing out PAY NOW PAY NOW!!! PAY NOW PAY NOW CREDIT CARD SCAM !!!!!!!! your missing out PAY NOW PAY NOW!!! PAY NOW PAY NOW CREDIT CARD SCAM !!!!!!!! your missing out PAY NOW PAY NOW!!! PAY NOW PAY NOW CREDIT CARD SCAM !!!!!!!! your missing out PAY NOW PAY NOW!!! PAY NOW PAY NOW CREDIT CARD SCAM !!!!!!!! your missing out PAY NOW PAY NOW!!! PAY NOW PAY NOW CREDIT CARD SCAM !!!!!!!! your missing out PAY NOW PAY NOW!!! PAY NOW PAY NOW CREDIT CARD SCAM !!!!!!!! your missing out PAY NOW PAY NOW!!! PAY NOW PAY NOW CREDIT CARD SCAM !!!!!!!! your missing out PAY NOW PAY NOW!!! PAY NOW PAY NOW CREDIT CARD SCAM !!!!!!!! your missing out PAY NOW PAY NOW!!! PAY NOW PAY NOW CREDIT CARD SCAM !!!!!!!! your missing out PAY NOW PAY NOW!!! PAY NOW PAY NOW CREDIT CARD SCAM !!!!!!!! your missing out PAY NOW PAY NOW!!!PAY NOW PAY NOW CREDIT CARD SCAM !!!!!!!! your missing out PAY NOW PAY NOW!!!PAY NOW PAY NOW CREDIT CARD SCAM !!!!!!!! your missing out PAY NOW PAY NOW!!!PAY NOW PAY NOW CREDIT CARD SCAM !!!!!!!! your missing out PAY NOW PAY NOW!!!PAY NOW PAY NOW CREDIT CARD SCAM !!!!!!!! your missing out PAY NOW PAY NOW!!!PAY NOW PAY NOW CREDIT CARD SCAM !!!!!!!! your missing out PAY NOW PAY NOW!!!!!!!!!!\")"
   ]
  }
 ],
 "metadata": {
  "kernelspec": {
   "display_name": "Python 3.6 - AzureML",
   "language": "python",
   "name": "python3-azureml"
  },
  "language_info": {
   "codemirror_mode": {
    "name": "ipython",
    "version": 3
   },
   "file_extension": ".py",
   "mimetype": "text/x-python",
   "name": "python",
   "nbconvert_exporter": "python",
   "pygments_lexer": "ipython3",
   "version": "3.6.9"
  }
 },
 "nbformat": 4,
 "nbformat_minor": 2
}
